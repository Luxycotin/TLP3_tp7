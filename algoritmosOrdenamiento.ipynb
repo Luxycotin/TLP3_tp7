{
 "cells": [
  {
   "cell_type": "markdown",
   "id": "340f2602",
   "metadata": {},
   "source": [
    "## Aloritmo Bubble Sort\n",
    "\n",
    "### Descripción:\n",
    "En el tipo de algoritmo Bubble Sort se ordena una lista comparando elementos de a pares y haciendo intercambios si están en el orden incorrecto. Y se repite esto hasta que todo quede ordenado :)\n",
    "\n"
   ]
  },
  {
   "cell_type": "code",
   "execution_count": null,
   "id": "78aa22cc",
   "metadata": {},
   "outputs": [],
   "source": [
    "def bubble_sort(soft_and_wet):\n",
    "    for i in range(len(soft_and_wet)):\n",
    "        for j in range(len(soft_and_wet) - 1):\n",
    "            if soft_and_wet[j] > soft_and_wet[j + 1]:\n",
    "                soft_and_wet[j], soft_and_wet[j + 1] = soft_and_wet[j + 1], soft_and_wet[j]\n",
    "    return soft_and_wet\n",
    "\n",
    "print(bubble_sort([5, 3, 8, 1, 2]))\n"
   ]
  },
  {
   "cell_type": "markdown",
   "id": "d0a6aa7f",
   "metadata": {},
   "source": [
    "## Algoritmo Insertion Sort\n",
    "\n",
    "### Descripción:\n",
    "En el tipo de algoritmo Insertion Sort se ordena una lista tomando un elemento a la vez y colocándolo en el lugar que le corresponde. Es simple y funciona bien si la lista ya está más o menos ordenada :)\n"
   ]
  },
  {
   "cell_type": "code",
   "execution_count": null,
   "id": "64878b06",
   "metadata": {},
   "outputs": [],
   "source": [
    "def insertion_sort(lista):\n",
    "    for i in range(1, len(lista)):\n",
    "        valor = lista[i]\n",
    "        j = i - 1\n",
    "        while j >= 0 and lista[j] > valor:\n",
    "            lista[j + 1] = lista[j]\n",
    "            j -= 1\n",
    "        lista[j + 1] = valor\n",
    "    return lista\n",
    "\n",
    "# Ejemplo\n",
    "print(insertion_sort([5, 3, 8, 1, 2]))\n"
   ]
  }
 ],
 "metadata": {
  "kernelspec": {
   "display_name": "Python 3",
   "language": "python",
   "name": "python3"
  },
  "language_info": {
   "name": "python",
   "version": "3.13.2"
  }
 },
 "nbformat": 4,
 "nbformat_minor": 5
}
